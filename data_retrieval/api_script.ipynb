{
  "nbformat": 4,
  "nbformat_minor": 0,
  "metadata": {
    "colab": {
      "provenance": []
    },
    "kernelspec": {
      "name": "python3",
      "display_name": "Python 3"
    },
    "language_info": {
      "name": "python"
    }
  },
  "cells": [
    {
      "cell_type": "code",
      "execution_count": null,
      "metadata": {
        "id": "WuHe5pD_qYkL"
      },
      "outputs": [],
      "source": [
        "pip install pcpartpicker"
      ]
    },
    {
      "cell_type": "code",
      "source": [
        "import nest_asyncio # only run this if using GoogleColab\n",
        "import pandas as pd\n",
        "import json\n",
        "\n",
        "from pcpartpicker import API"
      ],
      "metadata": {
        "id": "1JVe9FQqqbIk"
      },
      "execution_count": null,
      "outputs": []
    },
    {
      "cell_type": "code",
      "source": [
        "nest_asyncio.apply() # only run this if using GoogleColab\n",
        "\n",
        "api = API()\n",
        "\n",
        "headphones_data = api.retrieve('headphones')\n",
        "headphones_json = headphones_data.to_json()\n",
        "\n",
        "with open(\"headphones_data.json\", \"w\") as f:\n",
        "    json.dump(headphones_json, f, indent=4)\n",
        "\n",
        "print(\"Data saved to headphones_data.json\")"
      ],
      "metadata": {
        "colab": {
          "base_uri": "https://localhost:8080/"
        },
        "id": "P3qj8fWTqf9E",
        "outputId": "fc09b47a-2ad0-47d0-bea6-15d69428a967"
      },
      "execution_count": null,
      "outputs": [
        {
          "output_type": "stream",
          "name": "stdout",
          "text": [
            "Data saved to headphones_data.json\n"
          ]
        }
      ]
    },
    {
      "cell_type": "code",
      "source": [
        "headsets_dict = json.loads(headphones_json)\n",
        "df = pd.DataFrame(headsets_dict[\"headphones\"])"
      ],
      "metadata": {
        "id": "c1r80kl2tEeP"
      },
      "execution_count": null,
      "outputs": []
    },
    {
      "cell_type": "code",
      "source": [
        "df.to_csv(\"headsets.csv\", index=False)"
      ],
      "metadata": {
        "id": "uWTRsBUXtUTK"
      },
      "execution_count": null,
      "outputs": []
    }
  ]
}